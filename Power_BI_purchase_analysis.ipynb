{
 "cells": [
  {
   "cell_type": "code",
   "execution_count": 10,
   "metadata": {},
   "outputs": [
    {
     "name": "stdout",
     "output_type": "stream",
     "text": [
      "     Order Number  Order Date  Net Amount  Line Number  \\\n",
      "0  TSR/18271       10/05/2024      9156.0          1.0   \n",
      "1  TSR/18271       10/05/2024      9156.0          2.0   \n",
      "2  TSR/18271       10/05/2024      9156.0          3.0   \n",
      "3  TSR/18621       15/05/2024      5306.4          1.0   \n",
      "4  TSF/08046       28/06/2024      7700.0          1.0   \n",
      "\n",
      "                                    Part Description Unit Cost Order Quantity  \\\n",
      "0  DRESSING, CHITOGAUZE          (IEC PACK)      ...     23.17            250   \n",
      "1  DRESSING, CORIUS SEAL         (IEC PACK)      ...      5.91            350   \n",
      "2  DRESSING, TRAUMA, PROMETHEUS  (IEC PACK)      ...      3.70            350   \n",
      "3  WATER, BOTTLED, DRINKING,      OPERATIONAL USE...      7.37            720   \n",
      "4  PROFESSIONAL SERVICES, FINANCE CONSULTANCY    ...  7,700.00              1   \n",
      "\n",
      "   Line Cost  Vendor ID                     Vendor Name  \\\n",
      "0     5792.5    20169.0  Safeguard Medical Technologies   \n",
      "1     2068.5    20169.0  Safeguard Medical Technologies   \n",
      "2     1295.0    20169.0  Safeguard Medical Technologies   \n",
      "3     5306.4     3154.0  GREENHAM TRADING LTD             \n",
      "4     7700.0    21121.0  LAVAT CONSULTING LTD T/A PSTAX   \n",
      "\n",
      "                                       Location Name  \n",
      "0  OPERATIONAL SUPPORT GROUP - GENERAL STORE     ...  \n",
      "1  OPERATIONAL SUPPORT GROUP - GENERAL STORE     ...  \n",
      "2  OPERATIONAL SUPPORT GROUP - GENERAL STORE     ...  \n",
      "3  OPERATIONAL SUPPORT GROUP - UNIFORM STORE     ...  \n",
      "4  FINANCE ACCOUNTANCY, SERVICE ACCOUNTS         ...  \n"
     ]
    }
   ],
   "source": [
    "import pandas as pd\n",
    "\n",
    "#Load the CSV\n",
    "data = pd.read_csv('LFB Purchase Orders £5k to £10k FY 2024-25 Q1.csv')\n",
    "\n",
    "# Display the first few rows\n",
    "print(data.head())"
   ]
  },
  {
   "cell_type": "code",
   "execution_count": 8,
   "metadata": {},
   "outputs": [
    {
     "name": "stdout",
     "output_type": "stream",
     "text": [
      "<class 'pandas.core.frame.DataFrame'>\n",
      "RangeIndex: 303 entries, 0 to 302\n",
      "Data columns (total 11 columns):\n",
      " #   Column            Non-Null Count  Dtype  \n",
      "---  ------            --------------  -----  \n",
      " 0   Order Number      302 non-null    object \n",
      " 1   Order Date        302 non-null    object \n",
      " 2   Net Amount        302 non-null    float64\n",
      " 3   Line Number       302 non-null    float64\n",
      " 4   Part Description  302 non-null    object \n",
      " 5   Unit Cost         302 non-null    object \n",
      " 6   Order Quantity    302 non-null    object \n",
      " 7   Line Cost         302 non-null    float64\n",
      " 8   Vendor ID         302 non-null    float64\n",
      " 9   Vendor Name       302 non-null    object \n",
      " 10  Location Name     302 non-null    object \n",
      "dtypes: float64(4), object(7)\n",
      "memory usage: 26.2+ KB\n",
      "None\n",
      "         Net Amount  Line Number     Line Cost     Vendor ID\n",
      "count    302.000000   302.000000    302.000000    302.000000\n",
      "mean    7397.469272    17.225166   2990.316623  18362.000000\n",
      "std     1246.651823    27.104859   3304.138876   6550.979736\n",
      "min     5000.000000     1.000000     10.000000   1176.000000\n",
      "25%     6558.227500     1.000000     88.120000  16763.000000\n",
      "50%     7661.890000     2.000000   1105.670000  22250.000000\n",
      "75%     7752.090000    21.750000   5973.625000  22442.000000\n",
      "max    10000.000000    97.000000  10000.000000  22696.000000\n"
     ]
    }
   ],
   "source": [
    "#Summary of the dataset (columns, types, null values)\n",
    "print(data.info())\n",
    "\n",
    "#Descriptive statistics for numerical columns\n",
    "print(data.describe())"
   ]
  },
  {
   "cell_type": "code",
   "execution_count": 11,
   "metadata": {},
   "outputs": [],
   "source": [
    "#Data Cleaning \n",
    "# Convert 'Order Date' to datetime\n",
    "data['Order Date'] = pd.to_datetime(data['Order Date'], errors='coerce')\n",
    "\n",
    "# Convert 'Unit Cost' and 'Order Quantity' to numeric, removing commas\n",
    "data['Unit Cost'] = pd.to_numeric(data['Unit Cost'].str.replace(',', ''), errors='coerce')\n",
    "data['Order Quantity'] = pd.to_numeric(data['Order Quantity'].str.replace(',', ''), errors='coerce')\n"
   ]
  },
  {
   "cell_type": "code",
   "execution_count": 12,
   "metadata": {},
   "outputs": [
    {
     "name": "stdout",
     "output_type": "stream",
     "text": [
      "Order Number          1\n",
      "Order Date          129\n",
      "Net Amount            1\n",
      "Line Number           1\n",
      "Part Description      1\n",
      "Unit Cost             1\n",
      "Order Quantity        1\n",
      "Line Cost             1\n",
      "Vendor ID             1\n",
      "Vendor Name           1\n",
      "Location Name         1\n",
      "dtype: int64\n"
     ]
    },
    {
     "name": "stderr",
     "output_type": "stream",
     "text": [
      "C:\\Users\\mjlri\\AppData\\Local\\Temp\\ipykernel_33204\\1172379638.py:6: FutureWarning: A value is trying to be set on a copy of a DataFrame or Series through chained assignment using an inplace method.\n",
      "The behavior will change in pandas 3.0. This inplace method will never work because the intermediate object on which we are setting values always behaves as a copy.\n",
      "\n",
      "For example, when doing 'df[col].method(value, inplace=True)', try using 'df.method({col: value}, inplace=True)' or df[col] = df[col].method(value) instead, to perform the operation inplace on the original object.\n",
      "\n",
      "\n",
      "  data['Unit Cost'].fillna(data['Unit Cost'].median(), inplace=True)\n"
     ]
    }
   ],
   "source": [
    "#Handling missing values \n",
    "# Check for missing values\n",
    "print(data.isnull().sum())\n",
    "\n",
    "# Fill missing values (median) or drop rows\n",
    "data['Unit Cost'].fillna(data['Unit Cost'].median(), inplace=True)\n",
    "data.dropna(subset=['Order Date', 'Net Amount', 'Vendor Name'], inplace=True)\n"
   ]
  },
  {
   "cell_type": "code",
   "execution_count": 14,
   "metadata": {},
   "outputs": [],
   "source": [
    "#Create a New Feature Total Line Cost: Featuring Engineering\n",
    "# Create a new column for total line cost\n",
    "data['Total Line Cost'] = data['Unit Cost'] * data['Order Quantity']"
   ]
  },
  {
   "cell_type": "code",
   "execution_count": 15,
   "metadata": {},
   "outputs": [],
   "source": [
    "# Extract month and year from 'Order Date': allow trend analysis in Power BI like visualising  monthly spending patterns\n",
    "data['Order Month'] = data['Order Date'].dt.month\n",
    "data['Order Year'] = data['Order Date'].dt.year"
   ]
  },
  {
   "cell_type": "code",
   "execution_count": 16,
   "metadata": {},
   "outputs": [
    {
     "name": "stdout",
     "output_type": "stream",
     "text": [
      "                       Vendor Name  Net Amount\n",
      "11  CODE BLUE                        743203.33\n",
      "7   BRISSCO SIGNS & GRAPHICS          72968.00\n",
      "25  NPOWER LTD                        60595.60\n",
      "24  Mitie FM Limited,                 60490.14\n",
      "20  INFICON                           32800.00\n",
      "34  Telefonica UK Ltd                 29005.81\n",
      "32  Safeguard Medical Technologies    27468.00\n",
      "9   Bellrock (Portal) Property        23481.45\n",
      "33  THERMO FISHER SCIENTIFIC          21631.60\n",
      "22  IRON MOUNTAIN UK PLC              20023.66\n"
     ]
    }
   ],
   "source": [
    "#Key Insights via Data Aggregation\n",
    "#Total Expenditure by vendor: help identify the top vendors in terms of spending\n",
    "vendor_spend = data.groupby('Vendor Name')['Net Amount'].sum().reset_index()\n",
    "vendor_spend = vendor_spend.sort_values(by='Net Amount', ascending=False)\n",
    "print(vendor_spend.head(10))  # Top 10 vendors by expenditure"
   ]
  },
  {
   "cell_type": "code",
   "execution_count": 17,
   "metadata": {},
   "outputs": [
    {
     "name": "stdout",
     "output_type": "stream",
     "text": [
      "    Order Year  Order Month  Net Amount\n",
      "0         2024            1    11808.32\n",
      "1         2024            2    72157.10\n",
      "2         2024            3    95757.94\n",
      "3         2024            4    47059.13\n",
      "4         2024            5    64251.82\n",
      "5         2024            6    31869.56\n",
      "6         2024            7   781230.27\n",
      "7         2024            8    88626.34\n",
      "8         2024            9    22722.21\n",
      "9         2024           10    57221.46\n",
      "10        2024           11     5743.86\n",
      "11        2024           12    26895.99\n"
     ]
    }
   ],
   "source": [
    "#Monthly Trends: total expenditure per month to observe trends over time helpful in Power Bi\n",
    "monthly_spend = data.groupby(['Order Year', 'Order Month'])['Net Amount'].sum().reset_index()\n",
    "print(monthly_spend)"
   ]
  },
  {
   "cell_type": "code",
   "execution_count": 18,
   "metadata": {},
   "outputs": [
    {
     "name": "stdout",
     "output_type": "stream",
     "text": [
      "                                     Part Description  Total Line Cost\n",
      "39  MOBILE SERVICES               (ICT)           ...         29005.81\n",
      "45  PPM TASK                                      ...         22881.39\n",
      "58  TECHNOLOGY SOLUTIONS          (ICT)           ...         20023.66\n",
      "59  TRAINING COURSES - EXTERNAL   (SUBJECTIVE: 166...         18000.00\n",
      "60  TRAINING UNITARY PAYMENT -    BABCOCKS        ...         11236.53\n",
      "36  LEE GREEN FIRE STATION - ELECTRICAL REWIRE PRO...          8824.00\n",
      "27  HYDRANT PLATE, 6 SLOT, 4 HOLE,100 AT TOP & 1 A...          8260.00\n",
      "2   ATTENDANCE                                    ...          7730.20\n",
      "38  MERTON LOC- DRYING ROOM WORKS- BUDGET 2132    ...          7457.00\n",
      "50  R1 DRY SUITS SAF10025 RED/BLK AS PER AGREED SP...          7425.00\n"
     ]
    }
   ],
   "source": [
    "#Top products by Spend: most expensive product lines in terms of total expenditure \n",
    "product_spend = data.groupby('Part Description')['Total Line Cost'].sum().reset_index()\n",
    "product_spend = product_spend.sort_values(by='Total Line Cost', ascending=False)\n",
    "print(product_spend.head(10))  # Top 10 products by total line cost"
   ]
  },
  {
   "cell_type": "code",
   "execution_count": 19,
   "metadata": {},
   "outputs": [
    {
     "name": "stdout",
     "output_type": "stream",
     "text": [
      "       Order Number Order Date  Net Amount  Line Number  \\\n",
      "7    TSF/07011      2024-08-04     9808.34          1.0   \n",
      "8    TSF/07351      2024-01-05     5121.91          1.0   \n",
      "9    TSF/07432      2024-09-05     9624.21          1.0   \n",
      "13   TSF/07825      2024-10-06     9573.26          1.0   \n",
      "26   TSF/07791      2024-06-06     5402.71          1.0   \n",
      "40   TSF/06972      2024-04-04     5000.00          1.0   \n",
      "76   QZK/00015      2024-03-06     9668.10          1.0   \n",
      "77   QZK/00015      2024-03-06     9668.10          2.0   \n",
      "78   QZK/00015      2024-03-06     9668.10          3.0   \n",
      "79   QZK/00015      2024-03-06     9668.10          4.0   \n",
      "80   QZK/00015      2024-03-06     9668.10          5.0   \n",
      "186  TSF/07794      2024-07-06     5135.86          1.0   \n",
      "191  TSF/07461      2024-10-05     5250.00          1.0   \n",
      "265  TSF/07078      2024-12-04     5230.96          1.0   \n",
      "274  WLV/00003      2024-03-05     5000.00          2.0   \n",
      "275  WLV/00003      2024-03-05     5000.00          3.0   \n",
      "\n",
      "                                      Part Description  Unit Cost  \\\n",
      "7    MOBILE SERVICES               (ICT)           ...    9808.34   \n",
      "8    SOFTWARE DEVELOPMENT - COTS   (ICT)           ...    5121.91   \n",
      "9    MOBILE SERVICES               (ICT)           ...    9624.21   \n",
      "13   MOBILE SERVICES               (ICT)           ...    9573.26   \n",
      "26   HARDWARE PURCHASE             (ICT)           ...    5402.71   \n",
      "40   POSTAL/COURIER SERVICES (HQ)  - CITY SPRINT   ...       1.00   \n",
      "76   PPM TASK                                      ...    1258.04   \n",
      "77   PPM TASK                                      ...    2749.39   \n",
      "78   PPM TASK                                      ...    1612.12   \n",
      "79   PPM TASK                                      ...    1917.00   \n",
      "80   PPM TASK                                      ...    2131.55   \n",
      "186  PROFESSIONAL SERVICES, COUNSELLING            ...    5135.86   \n",
      "191  PROFESSIONAL SERVICES, EVENTS ORGANISATION    ...    5250.00   \n",
      "265  TRAINING UNITARY PAYMENT -    BABCOCKS        ...    5230.96   \n",
      "274  ESTATE MAPPING PROJECT UNION STREET           ...       1.00   \n",
      "275  ESTATE MAPPING PROJECT VARIOUS                ...       1.00   \n",
      "\n",
      "     Order Quantity  Line Cost  Vendor ID                     Vendor Name  \\\n",
      "7               1.0    9808.34    22499.0  Telefonica UK Ltd                \n",
      "8               1.0    5121.91    12683.0  GREATER LONDON AUTHORITY         \n",
      "9               1.0    9624.21    22499.0  Telefonica UK Ltd                \n",
      "13              1.0    9573.26    22499.0  Telefonica UK Ltd                \n",
      "26              1.0    5402.71    11543.0  SPECIALIST COMPUTER CENTRE       \n",
      "40           5000.0    5000.00     5435.0  CITYSPRINT (UK) LTD              \n",
      "76              1.0    1258.04    20793.0  Mitie FM Limited,                \n",
      "77              1.0    2749.39    20793.0  Mitie FM Limited,                \n",
      "78              1.0    1612.12    20793.0  Mitie FM Limited,                \n",
      "79              1.0    1917.00    20793.0  Mitie FM Limited,                \n",
      "80              1.0    2131.55    20793.0  Mitie FM Limited,                \n",
      "186             1.0    5135.86    14641.0  CORE IMS LTD                     \n",
      "191             1.0    5250.00    22359.0  AKD Solutions Ltd                \n",
      "265             1.0    5230.96    19789.0  BABCOCK TRAINING LTD             \n",
      "274          3500.0    3500.00    22160.0  Bellrock (Portal) Property       \n",
      "275          1500.0    1500.00    22160.0  Bellrock (Portal) Property       \n",
      "\n",
      "                                         Location Name  Total Line Cost  \\\n",
      "7    ICT - SERVICE MANAGEMENT                      ...          9808.34   \n",
      "8    ICT - SERVICE MANAGEMENT                      ...          5121.91   \n",
      "9    ICT - SERVICE MANAGEMENT                      ...          9624.21   \n",
      "13   ICT - SERVICE MANAGEMENT                      ...          9573.26   \n",
      "26   ICT - TECHNICAL PROJECTS                      ...          5402.71   \n",
      "40   ICT - DOCUMENT MANAGEMENT                     ...          5000.00   \n",
      "76   HQ COMPLEX - PROPERTY RELATED ORDERS ONLY     ...          1258.04   \n",
      "77   HQ COMPLEX - PROPERTY RELATED ORDERS ONLY     ...          2749.39   \n",
      "78   HQ COMPLEX - PROPERTY RELATED ORDERS ONLY     ...          1612.12   \n",
      "79   HQ COMPLEX - PROPERTY RELATED ORDERS ONLY     ...          1917.00   \n",
      "80   HQ COMPLEX - PROPERTY RELATED ORDERS ONLY     ...          2131.55   \n",
      "186  HR - COUNSELLING & WELLBEING - EUSTON         ...          5135.86   \n",
      "191  ORGANISATIONAL DEVELOPMENT (DTOD)             ...          5250.00   \n",
      "265  TRAINING OPERATIONS                           ...          5230.96   \n",
      "274  PROPERTY SERVICES MANAGEMENT & ADMIN          ...          3500.00   \n",
      "275  PROPERTY SERVICES MANAGEMENT & ADMIN          ...          1500.00   \n",
      "\n",
      "     Order Month  Order Year  \n",
      "7              8        2024  \n",
      "8              1        2024  \n",
      "9              9        2024  \n",
      "13            10        2024  \n",
      "26             6        2024  \n",
      "40             4        2024  \n",
      "76             3        2024  \n",
      "77             3        2024  \n",
      "78             3        2024  \n",
      "79             3        2024  \n",
      "80             3        2024  \n",
      "186            7        2024  \n",
      "191           10        2024  \n",
      "265           12        2024  \n",
      "274            3        2024  \n",
      "275            3        2024  \n"
     ]
    }
   ],
   "source": [
    "#Detecting Outliers in Net Amount or Line Cost\n",
    "# Identify outliers by looking at high or low values for Net Amount\n",
    "outliers = data[(data['Net Amount'] > data['Net Amount'].quantile(0.95)) | (data['Net Amount'] < data['Net Amount'].quantile(0.05))]\n",
    "print(outliers)"
   ]
  },
  {
   "cell_type": "code",
   "execution_count": null,
   "metadata": {},
   "outputs": [],
   "source": [
    "# Save the cleaned and transformed data\n",
    "data.to_csv('cleaned_purchase_orders.csv', index=False)"
   ]
  },
  {
   "cell_type": "code",
   "execution_count": 21,
   "metadata": {},
   "outputs": [
    {
     "name": "stdout",
     "output_type": "stream",
     "text": [
      "    Order Year  Order Month  Net Amount\n",
      "0         2024            1    11808.32\n",
      "1         2024            2    72157.10\n",
      "2         2024            3    95757.94\n",
      "3         2024            4    47059.13\n",
      "4         2024            5    64251.82\n",
      "5         2024            6    31869.56\n",
      "6         2024            7   781230.27\n",
      "7         2024            8    88626.34\n",
      "8         2024            9    22722.21\n",
      "9         2024           10    57221.46\n",
      "10        2024           11     5743.86\n",
      "11        2024           12    26895.99\n"
     ]
    }
   ],
   "source": [
    "#Trend Analysis: Monthly Expenditure over time: expenditure fluctuation\n",
    "# Grouping by year and month to get total expenditure per month\n",
    "monthly_trend = data.groupby(['Order Year', 'Order Month'])['Net Amount'].sum().reset_index()\n",
    "\n",
    "# Sort by Year and Month for proper visualization\n",
    "monthly_trend = monthly_trend.sort_values(by=['Order Year', 'Order Month'])\n",
    "\n",
    "print(monthly_trend)"
   ]
  },
  {
   "cell_type": "code",
   "execution_count": 22,
   "metadata": {},
   "outputs": [
    {
     "name": "stdout",
     "output_type": "stream",
     "text": [
      "                       Vendor Name  Net Amount\n",
      "11  CODE BLUE                        743203.33\n",
      "7   BRISSCO SIGNS & GRAPHICS          72968.00\n",
      "25  NPOWER LTD                        60595.60\n",
      "24  Mitie FM Limited,                 60490.14\n",
      "20  INFICON                           32800.00\n",
      "34  Telefonica UK Ltd                 29005.81\n",
      "32  Safeguard Medical Technologies    27468.00\n",
      "9   Bellrock (Portal) Property        23481.45\n",
      "33  THERMO FISHER SCIENTIFIC          21631.60\n",
      "22  IRON MOUNTAIN UK PLC              20023.66\n"
     ]
    }
   ],
   "source": [
    "#Vendor Performance: Top Vendors by total spend: identify most orders or highest total expenditure\n",
    "# Group by Vendor to calculate total expenditure\n",
    "top_vendors = data.groupby('Vendor Name')['Net Amount'].sum().reset_index()\n",
    "\n",
    "# Sort in descending order to get the top vendors\n",
    "top_vendors = top_vendors.sort_values(by='Net Amount', ascending=False)\n",
    "\n",
    "# Display the top 10 vendors\n",
    "print(top_vendors.head(10))\n",
    "\n",
    "\n"
   ]
  },
  {
   "cell_type": "code",
   "execution_count": 23,
   "metadata": {},
   "outputs": [
    {
     "name": "stdout",
     "output_type": "stream",
     "text": [
      "                       Vendor Name    Unit Cost\n",
      "34  Telefonica UK Ltd               9668.603333\n",
      "27  Premier People Solutions Ltd    9000.000000\n",
      "0   ABM Technical Solutions Ltd     7370.640000\n",
      "22  IRON MOUNTAIN UK PLC            6674.553333\n",
      "31  SSS Public Safety Limited       6267.530000\n",
      "2   ANSCO MUSIC CLUB LTD            6000.000000\n",
      "28  Royal United Services Inst.     5981.500000\n",
      "6   BABCOCK TRAINING LTD            5618.265000\n",
      "26  PHOENIX SOFTWARE LTD            5580.000000\n",
      "30  SPECIALIST COMPUTER CENTRE      5402.710000\n"
     ]
    }
   ],
   "source": [
    "#Cost Efficiency: Unit cost per vendor/product\n",
    "# Group by Vendor Name and calculate the average Unit Cost\n",
    "avg_unit_cost_per_vendor = data.groupby('Vendor Name')['Unit Cost'].mean().reset_index()\n",
    "\n",
    "# Sort by Unit Cost to identify vendors with the highest/lowest average costs\n",
    "avg_unit_cost_per_vendor = avg_unit_cost_per_vendor.sort_values(by='Unit Cost', ascending=False)\n",
    "\n",
    "# Display the vendors with the highest average unit cost\n",
    "print(avg_unit_cost_per_vendor.head(10))"
   ]
  },
  {
   "cell_type": "code",
   "execution_count": 24,
   "metadata": {},
   "outputs": [
    {
     "name": "stdout",
     "output_type": "stream",
     "text": [
      "                                     Part Description  Order Quantity\n",
      "36  LEE GREEN FIRE STATION - ELECTRICAL REWIRE PRO...          8824.0\n",
      "38  MERTON LOC- DRYING ROOM WORKS- BUDGET 2132    ...          7457.0\n",
      "1   ACCIDENT REPAIR PAYMENTS      - PFI CONTRACTOR...          7200.0\n",
      "8   DISPLAY ENERGY CERTIFICATES                   ...          7156.0\n",
      "6   CROYDON SUPPLY` AND DELIVERY OF PELLETS FOR BI...          7000.0\n",
      "44  PPE PAYMENTS - BRISTOL UNIFORMS LTD           ...          6835.0\n",
      "16  GP TECH-SERV- ANNUAL PPM BLANKET ORDER- BUDGET...          6686.0\n",
      "37  MERTON LOC- CHANGING ROOM LOCKER ROOMS        ...          6025.0\n",
      "46  PRIVACY FOR ALL                               ...          5744.0\n",
      "43  POSTAL/COURIER SERVICES (HQ)  - CITY SPRINT   ...          5000.0\n"
     ]
    }
   ],
   "source": [
    "# Group by Part Description to calculate total order quantities\n",
    "high_volume_products = data.groupby('Part Description')['Order Quantity'].sum().reset_index()\n",
    "\n",
    "# Sort to find products ordered in the largest quantities\n",
    "high_volume_products = high_volume_products.sort_values(by='Order Quantity', ascending=False)\n",
    "\n",
    "# Display the top 10 high-volume products\n",
    "print(high_volume_products.head(10))\n"
   ]
  },
  {
   "cell_type": "code",
   "execution_count": 25,
   "metadata": {},
   "outputs": [],
   "source": [
    "#Outliers: identify anomalies in expenditure\n",
    "# Calculate the IQR for 'Net Amount' to detect outliers: Interquartile method \n",
    "Q1 = data['Net Amount'].quantile(0.25)\n",
    "Q3 = data['Net Amount'].quantile(0.75)\n",
    "IQR = Q3 - Q1"
   ]
  },
  {
   "cell_type": "code",
   "execution_count": 26,
   "metadata": {},
   "outputs": [
    {
     "name": "stdout",
     "output_type": "stream",
     "text": [
      "       Order Number Order Date  Net Amount  Line Number  \\\n",
      "0    TSR/18271      2024-10-05     9156.00          1.0   \n",
      "1    TSR/18271      2024-10-05     9156.00          2.0   \n",
      "2    TSR/18271      2024-10-05     9156.00          3.0   \n",
      "7    TSF/07011      2024-08-04     9808.34          1.0   \n",
      "8    TSF/07351      2024-01-05     5121.91          1.0   \n",
      "..              ...        ...         ...          ...   \n",
      "287  PGS/13736      2024-04-06     7080.00          2.0   \n",
      "288  PGS/13741      2024-07-06     7440.00          1.0   \n",
      "289  PGS/13741      2024-07-06     7440.00          2.0   \n",
      "296  PGS/13679      2024-05-04     8200.00          3.0   \n",
      "297  PGS/13679      2024-05-04     8200.00          4.0   \n",
      "\n",
      "                                      Part Description  Unit Cost  \\\n",
      "0    DRESSING, CHITOGAUZE          (IEC PACK)      ...      23.17   \n",
      "1    DRESSING, CORIUS SEAL         (IEC PACK)      ...       5.91   \n",
      "2    DRESSING, TRAUMA, PROMETHEUS  (IEC PACK)      ...       3.70   \n",
      "7    MOBILE SERVICES               (ICT)           ...    9808.34   \n",
      "8    SOFTWARE DEVELOPMENT - COTS   (ICT)           ...    5121.91   \n",
      "..                                                 ...        ...   \n",
      "287  LABOUR                                        ...     600.00   \n",
      "288  R1 DRY SUITS SAF10025 RED/BLK AS PER AGREED SP...     495.00   \n",
      "289  CARRIAGE                                      ...      15.00   \n",
      "296  HAPSITE SERVICE/REPAIR CONTRACT 6TH OCT TO 5TH...    2050.00   \n",
      "297  HAPSITE SERVICE/REPAIR CONTRACT 6TH JAN TO 5TH...    2050.00   \n",
      "\n",
      "     Order Quantity  Line Cost  Vendor ID                     Vendor Name  \\\n",
      "0             250.0    5792.50    20169.0  Safeguard Medical Technologies   \n",
      "1             350.0    2068.50    20169.0  Safeguard Medical Technologies   \n",
      "2             350.0    1295.00    20169.0  Safeguard Medical Technologies   \n",
      "7               1.0    9808.34    22499.0  Telefonica UK Ltd                \n",
      "8               1.0    5121.91    12683.0  GREATER LONDON AUTHORITY         \n",
      "..              ...        ...        ...                             ...   \n",
      "287             1.0     600.00    12800.0  GAS & AIR SERVICES (UK)          \n",
      "288            15.0    7425.00    17485.0  SAFEQUIP LTD                     \n",
      "289             1.0      15.00    17485.0  SAFEQUIP LTD                     \n",
      "296             1.0    2050.00    20279.0  INFICON                          \n",
      "297             1.0    2050.00    20279.0  INFICON                          \n",
      "\n",
      "                                         Location Name  Total Line Cost  \\\n",
      "0    OPERATIONAL SUPPORT GROUP - GENERAL STORE     ...          5792.50   \n",
      "1    OPERATIONAL SUPPORT GROUP - GENERAL STORE     ...          2068.50   \n",
      "2    OPERATIONAL SUPPORT GROUP - GENERAL STORE     ...          1295.00   \n",
      "7    ICT - SERVICE MANAGEMENT                      ...          9808.34   \n",
      "8    ICT - SERVICE MANAGEMENT                      ...          5121.91   \n",
      "..                                                 ...              ...   \n",
      "287  PEG CROYDON GENERAL PURCHASING                ...           600.00   \n",
      "288  PEG CROYDON GENERAL PURCHASING                ...          7425.00   \n",
      "289  PEG CROYDON GENERAL PURCHASING                ...            15.00   \n",
      "296  PEG CROYDON GENERAL PURCHASING                ...          2050.00   \n",
      "297  PEG CROYDON GENERAL PURCHASING                ...          2050.00   \n",
      "\n",
      "     Order Month  Order Year  \n",
      "0             10        2024  \n",
      "1             10        2024  \n",
      "2             10        2024  \n",
      "7              8        2024  \n",
      "8              1        2024  \n",
      "..           ...         ...  \n",
      "287            4        2024  \n",
      "288            7        2024  \n",
      "289            7        2024  \n",
      "296            5        2024  \n",
      "297            5        2024  \n",
      "\n",
      "[67 rows x 14 columns]\n"
     ]
    }
   ],
   "source": [
    "# Define thresholds for detecting outliers\n",
    "lower_bound = Q1 - 1.5 * IQR\n",
    "upper_bound = Q3 + 1.5 * IQR\n",
    "\n",
    "# Find outliers based on the thresholds\n",
    "outliers = data[(data['Net Amount'] < lower_bound) | (data['Net Amount'] > upper_bound)]\n",
    "\n",
    "# Display outliers\n",
    "print(outliers)"
   ]
  },
  {
   "cell_type": "code",
   "execution_count": 28,
   "metadata": {},
   "outputs": [],
   "source": [
    "# Save the cleaned and analyzed dataset to CSV files for Power BI\n",
    "monthly_trend.to_csv('monthly_trend.csv', index=False)\n",
    "top_vendors.to_csv('top_vendors.csv', index=False)\n",
    "avg_unit_cost_per_vendor.to_csv('avg_unit_cost_per_vendor.csv', index=False)\n",
    "high_volume_products.to_csv('high_volume_products.csv', index=False)\n",
    "outliers.to_csv('expenditure_outliers.csv', index=False)\n"
   ]
  }
 ],
 "metadata": {
  "kernelspec": {
   "display_name": "gentoo_pdf",
   "language": "python",
   "name": "python3"
  },
  "language_info": {
   "codemirror_mode": {
    "name": "ipython",
    "version": 3
   },
   "file_extension": ".py",
   "mimetype": "text/x-python",
   "name": "python",
   "nbconvert_exporter": "python",
   "pygments_lexer": "ipython3",
   "version": "3.12.4"
  }
 },
 "nbformat": 4,
 "nbformat_minor": 2
}
