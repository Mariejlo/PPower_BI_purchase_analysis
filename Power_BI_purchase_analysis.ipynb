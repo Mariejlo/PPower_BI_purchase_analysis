{
 "cells": [
  {
   "cell_type": "code",
   "execution_count": 7,
   "metadata": {},
   "outputs": [
    {
     "name": "stdout",
     "output_type": "stream",
     "text": [
      "     Order Number  Order Date  Net Amount  Line Number  \\\n",
      "0  TSR/18271       10/05/2024      9156.0          1.0   \n",
      "1  TSR/18271       10/05/2024      9156.0          2.0   \n",
      "2  TSR/18271       10/05/2024      9156.0          3.0   \n",
      "3  TSR/18621       15/05/2024      5306.4          1.0   \n",
      "4  TSF/08046       28/06/2024      7700.0          1.0   \n",
      "\n",
      "                                    Part Description Unit Cost Order Quantity  \\\n",
      "0  DRESSING, CHITOGAUZE          (IEC PACK)      ...     23.17            250   \n",
      "1  DRESSING, CORIUS SEAL         (IEC PACK)      ...      5.91            350   \n",
      "2  DRESSING, TRAUMA, PROMETHEUS  (IEC PACK)      ...      3.70            350   \n",
      "3  WATER, BOTTLED, DRINKING,      OPERATIONAL USE...      7.37            720   \n",
      "4  PROFESSIONAL SERVICES, FINANCE CONSULTANCY    ...  7,700.00              1   \n",
      "\n",
      "   Line Cost  Vendor ID                     Vendor Name  \\\n",
      "0     5792.5    20169.0  Safeguard Medical Technologies   \n",
      "1     2068.5    20169.0  Safeguard Medical Technologies   \n",
      "2     1295.0    20169.0  Safeguard Medical Technologies   \n",
      "3     5306.4     3154.0  GREENHAM TRADING LTD             \n",
      "4     7700.0    21121.0  LAVAT CONSULTING LTD T/A PSTAX   \n",
      "\n",
      "                                       Location Name  \n",
      "0  OPERATIONAL SUPPORT GROUP - GENERAL STORE     ...  \n",
      "1  OPERATIONAL SUPPORT GROUP - GENERAL STORE     ...  \n",
      "2  OPERATIONAL SUPPORT GROUP - GENERAL STORE     ...  \n",
      "3  OPERATIONAL SUPPORT GROUP - UNIFORM STORE     ...  \n",
      "4  FINANCE ACCOUNTANCY, SERVICE ACCOUNTS         ...  \n"
     ]
    }
   ],
   "source": [
    "import pandas as pd\n",
    "\n",
    "#Load the CSV\n",
    "data = pd.read_csv('LFB Purchase Orders £5k to £10k FY 2024-25 Q1.csv')\n",
    "# Display the first few rows\n",
    "print(data.head())"
   ]
  },
  {
   "cell_type": "code",
   "execution_count": 8,
   "metadata": {},
   "outputs": [
    {
     "name": "stdout",
     "output_type": "stream",
     "text": [
      "<class 'pandas.core.frame.DataFrame'>\n",
      "RangeIndex: 303 entries, 0 to 302\n",
      "Data columns (total 11 columns):\n",
      " #   Column            Non-Null Count  Dtype  \n",
      "---  ------            --------------  -----  \n",
      " 0   Order Number      302 non-null    object \n",
      " 1   Order Date        302 non-null    object \n",
      " 2   Net Amount        302 non-null    float64\n",
      " 3   Line Number       302 non-null    float64\n",
      " 4   Part Description  302 non-null    object \n",
      " 5   Unit Cost         302 non-null    object \n",
      " 6   Order Quantity    302 non-null    object \n",
      " 7   Line Cost         302 non-null    float64\n",
      " 8   Vendor ID         302 non-null    float64\n",
      " 9   Vendor Name       302 non-null    object \n",
      " 10  Location Name     302 non-null    object \n",
      "dtypes: float64(4), object(7)\n",
      "memory usage: 26.2+ KB\n",
      "None\n",
      "         Net Amount  Line Number     Line Cost     Vendor ID\n",
      "count    302.000000   302.000000    302.000000    302.000000\n",
      "mean    7397.469272    17.225166   2990.316623  18362.000000\n",
      "std     1246.651823    27.104859   3304.138876   6550.979736\n",
      "min     5000.000000     1.000000     10.000000   1176.000000\n",
      "25%     6558.227500     1.000000     88.120000  16763.000000\n",
      "50%     7661.890000     2.000000   1105.670000  22250.000000\n",
      "75%     7752.090000    21.750000   5973.625000  22442.000000\n",
      "max    10000.000000    97.000000  10000.000000  22696.000000\n"
     ]
    }
   ],
   "source": [
    "#Summary of the dataset (columns, types, null values)\n",
    "print(data.info())\n",
    "\n",
    "#Descriptive statistics for numerical columns\n",
    "print(data.describe())"
   ]
  },
  {
   "cell_type": "code",
   "execution_count": null,
   "metadata": {},
   "outputs": [],
   "source": []
  }
 ],
 "metadata": {
  "kernelspec": {
   "display_name": "gentoo_pdf",
   "language": "python",
   "name": "python3"
  },
  "language_info": {
   "codemirror_mode": {
    "name": "ipython",
    "version": 3
   },
   "file_extension": ".py",
   "mimetype": "text/x-python",
   "name": "python",
   "nbconvert_exporter": "python",
   "pygments_lexer": "ipython3",
   "version": "3.12.4"
  }
 },
 "nbformat": 4,
 "nbformat_minor": 2
}
